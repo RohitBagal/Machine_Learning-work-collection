{
 "cells": [
  {
   "cell_type": "code",
   "execution_count": 1,
   "id": "e95e4cd0",
   "metadata": {},
   "outputs": [],
   "source": [
    "# Importing Requred Packages \n",
    "import numpy as np \n",
    "import pandas as pd \n",
    "import openpyxl"
   ]
  },
  {
   "cell_type": "code",
   "execution_count": 2,
   "id": "335e97b7",
   "metadata": {},
   "outputs": [],
   "source": [
    "# Load the input workbook and worksheet\n",
    "input_workbook = openpyxl.load_workbook('input.xlsx')\n",
    "input_sheet = input_workbook.active"
   ]
  },
  {
   "cell_type": "code",
   "execution_count": 4,
   "id": "47f01345",
   "metadata": {},
   "outputs": [],
   "source": [
    "# Create a new workbook and worksheet for the output\n",
    "output_workbook = openpyxl.Workbook()\n",
    "output_sheet = output_workbook.active\n",
    "output_sheet.title = 'Fruit Quantities'"
   ]
  },
  {
   "cell_type": "code",
   "execution_count": 5,
   "id": "d7d0daa3",
   "metadata": {},
   "outputs": [],
   "source": [
    "# Create a dictionary to store the total quantity of each fruit\n",
    "fruit_totals = {}"
   ]
  },
  {
   "cell_type": "code",
   "execution_count": 6,
   "id": "53386e70",
   "metadata": {},
   "outputs": [],
   "source": [
    "# Iterate over the rows in the input worksheet\n",
    "for row in input_sheet.iter_rows(min_row=2, values_only=True):\n",
    "    # Get the fruit name and quantity from the row\n",
    "    fruit = row[0]\n",
    "    quantity = row[1]\n",
    "\n",
    "    # Add the quantity to the fruit's total in the dictionary\n",
    "    if fruit in fruit_totals:\n",
    "        fruit_totals[fruit] += quantity\n",
    "    else:\n",
    "        fruit_totals[fruit] = quantity\n"
   ]
  },
  {
   "cell_type": "code",
   "execution_count": 7,
   "id": "549563e0",
   "metadata": {},
   "outputs": [],
   "source": [
    "# Write the fruit totals to the output worksheet\n",
    "output_sheet.cell(row=1, column=1, value='Fruit')\n",
    "output_sheet.cell(row=1, column=2, value='Total Quantity')\n",
    "for i, (fruit, total) in enumerate(fruit_totals.items(), start=2):\n",
    "    output_sheet.cell(row=i, column=1, value=fruit)\n",
    "    output_sheet.cell(row=i, column=2, value=total)"
   ]
  },
  {
   "cell_type": "code",
   "execution_count": 8,
   "id": "7498efd6",
   "metadata": {},
   "outputs": [],
   "source": [
    "# Save the output workbook to a file\n",
    "output_workbook.save('output.xlsx')"
   ]
  },
  {
   "cell_type": "code",
   "execution_count": null,
   "id": "3c550e52",
   "metadata": {},
   "outputs": [],
   "source": []
  },
  {
   "cell_type": "code",
   "execution_count": null,
   "id": "a3f98dc7",
   "metadata": {},
   "outputs": [],
   "source": []
  }
 ],
 "metadata": {
  "kernelspec": {
   "display_name": "Python 3 (ipykernel)",
   "language": "python",
   "name": "python3"
  },
  "language_info": {
   "codemirror_mode": {
    "name": "ipython",
    "version": 3
   },
   "file_extension": ".py",
   "mimetype": "text/x-python",
   "name": "python",
   "nbconvert_exporter": "python",
   "pygments_lexer": "ipython3",
   "version": "3.8.10"
  }
 },
 "nbformat": 4,
 "nbformat_minor": 5
}
