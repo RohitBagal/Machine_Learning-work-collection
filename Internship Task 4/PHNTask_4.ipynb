{
  "nbformat": 4,
  "nbformat_minor": 0,
  "metadata": {
    "colab": {
      "provenance": []
    },
    "kernelspec": {
      "name": "python3",
      "display_name": "Python 3"
    },
    "language_info": {
      "name": "python"
    }
  },
  "cells": [
    {
      "cell_type": "code",
      "execution_count": 1,
      "metadata": {
        "id": "DuNaoeZcIOfT"
      },
      "outputs": [],
      "source": [
        "import numpy as np"
      ]
    },
    {
      "cell_type": "code",
      "source": [
        "# 1. Create a NumPy array\n",
        "arr1 = np.array([0,1, 2, 3, 4, 5])"
      ],
      "metadata": {
        "id": "41zGDRTaInEi"
      },
      "execution_count": 2,
      "outputs": []
    },
    {
      "cell_type": "code",
      "source": [
        "# 2. Print the shape of the array\n",
        "print(\"Shape of arr1:\", arr1.shape)"
      ],
      "metadata": {
        "colab": {
          "base_uri": "https://localhost:8080/"
        },
        "id": "5IVnWEBcIpt5",
        "outputId": "dc0a627a-1b5d-4430-f80f-2b29d97db1c3"
      },
      "execution_count": 3,
      "outputs": [
        {
          "output_type": "stream",
          "name": "stdout",
          "text": [
            "Shape of arr1: (6,)\n"
          ]
        }
      ]
    },
    {
      "cell_type": "code",
      "source": [
        "# 3. Reshape the array into a 2D array\n",
        "arr2 = np.reshape(arr1,(2, 3))"
      ],
      "metadata": {
        "id": "ElSRKgEjIsDY"
      },
      "execution_count": 4,
      "outputs": []
    },
    {
      "cell_type": "code",
      "source": [
        "# 4. Print the shape of the new array\n",
        "print(\"Shape of arr2:\", arr2.shape)"
      ],
      "metadata": {
        "colab": {
          "base_uri": "https://localhost:8080/"
        },
        "id": "z5ARNKPBIuH6",
        "outputId": "724851d0-fae8-46fd-ce2b-0c808f1fc776"
      },
      "execution_count": 6,
      "outputs": [
        {
          "output_type": "stream",
          "name": "stdout",
          "text": [
            "Shape of arr2: (2, 3)\n"
          ]
        }
      ]
    },
    {
      "cell_type": "code",
      "source": [
        "# 5. Create a second NumPy array\n",
        "arr3 = np.array([6, 7, 8, 9, 10, 11])\n"
      ],
      "metadata": {
        "id": "cOdN1bwWI8j3"
      },
      "execution_count": 7,
      "outputs": []
    },
    {
      "cell_type": "code",
      "source": [
        "# 6. Concatenate the two arrays horizontally\n",
        "result = np.hstack((arr2, arr3.reshape(2, 3)))"
      ],
      "metadata": {
        "id": "YDQnItV-I-0O"
      },
      "execution_count": 8,
      "outputs": []
    },
    {
      "cell_type": "code",
      "source": [
        "# 7. Print the resulting array\n",
        "print(\"Concatenated array:\")\n",
        "print(result)"
      ],
      "metadata": {
        "colab": {
          "base_uri": "https://localhost:8080/"
        },
        "id": "_x5E1T-0JBIv",
        "outputId": "f8e4f03e-3860-46fb-b8c6-db58f939eb62"
      },
      "execution_count": 9,
      "outputs": [
        {
          "output_type": "stream",
          "name": "stdout",
          "text": [
            "Concatenated array:\n",
            "[[ 0  1  2  6  7  8]\n",
            " [ 3  4  5  9 10 11]]\n"
          ]
        }
      ]
    },
    {
      "cell_type": "code",
      "source": [
        "# 8. Compute mean, median, and standard deviation\n",
        "mean = np.mean(result)\n",
        "median = np.median(result)\n",
        "std_dev = np.std(result)\n",
        "\n",
        "print(\"Mean:\", mean)\n",
        "print(\"Median:\", median)\n",
        "print(\"Standard Deviation:\", std_dev)"
      ],
      "metadata": {
        "colab": {
          "base_uri": "https://localhost:8080/"
        },
        "id": "beqOi6gCJC54",
        "outputId": "57828324-cc83-4d4e-84be-21dfc2f5c523"
      },
      "execution_count": 10,
      "outputs": [
        {
          "output_type": "stream",
          "name": "stdout",
          "text": [
            "Mean: 5.5\n",
            "Median: 5.5\n",
            "Standard Deviation: 3.452052529534663\n"
          ]
        }
      ]
    },
    {
      "cell_type": "code",
      "source": [],
      "metadata": {
        "id": "EmeI8EUUJFmQ"
      },
      "execution_count": null,
      "outputs": []
    }
  ]
}